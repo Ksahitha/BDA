{
  "nbformat": 4,
  "nbformat_minor": 0,
  "metadata": {
    "colab": {
      "provenance": []
    },
    "kernelspec": {
      "name": "python3",
      "display_name": "Python 3"
    },
    "language_info": {
      "name": "python"
    }
  },
  "cells": [
    {
      "cell_type": "code",
      "execution_count": null,
      "metadata": {
        "colab": {
          "base_uri": "https://localhost:8080/"
        },
        "id": "5MbZYwmCvvuA",
        "outputId": "f7efabaa-b33b-4a8a-9bdc-8b868c3f1c50"
      },
      "outputs": [
        {
          "output_type": "stream",
          "name": "stdout",
          "text": [
            "Mounted at /content/drive\n"
          ]
        }
      ],
      "source": [
        "# Mount Google Drive\n",
        "from google.colab import drive\n",
        "drive.mount('/content/drive')"
      ]
    },
    {
      "cell_type": "code",
      "source": [
        "class Counter:\n",
        "    count = 0\n",
        "\n",
        "    def __init__(self):\n",
        "        self._count = 0\n",
        "\n",
        "    def increment(self):\n",
        "        self._count +=1\n",
        "        Counter.count +=1\n",
        "\n",
        "    def get_counts(self):\n",
        "        return f\"Instance count: {self._count}, Class count: {Counter.count}\"\n",
        "\n",
        "#self._count is an instance variable specific to each Counter object\n",
        "#Counter.count is a class variable shared across all instances of Counter class\n",
        "a = Counter()\n",
        "b = Counter()\n",
        "\n",
        "a.increment()\n",
        "a.increment()\n",
        "b.increment()\n",
        "#increment method increases the count instance variable for that instance\n",
        "#                 increases the count of class variable regardless of which variable\n",
        "\n",
        "print(a.get_counts())\n",
        "print(b.get_counts())"
      ],
      "metadata": {
        "colab": {
          "base_uri": "https://localhost:8080/"
        },
        "id": "hDGrsez_v8xX",
        "outputId": "80ed5120-0262-437f-dd92-0e91ff8e908e"
      },
      "execution_count": null,
      "outputs": [
        {
          "output_type": "stream",
          "name": "stdout",
          "text": [
            "Instance count: 2, Class count: 3\n",
            "Instance count: 1, Class count: 3\n"
          ]
        }
      ]
    },
    {
      "cell_type": "code",
      "source": [
        "def sum_all(args):\n",
        "    return sum(args)\n",
        "\n",
        "print(\"Sum of 1,2,3, is:\" ,sum_all([1, 2, 3]))\n",
        "print(\"Sum of 4,5,6,7 is:\" ,sum_all([4,5,6,7]))"
      ],
      "metadata": {
        "colab": {
          "base_uri": "https://localhost:8080/"
        },
        "id": "NzSmafsa0YQ7",
        "outputId": "7cc44c1c-a43a-47de-b76a-4e74ed3da227"
      },
      "execution_count": null,
      "outputs": [
        {
          "output_type": "stream",
          "name": "stdout",
          "text": [
            "Sum of 1,2,3, is: 6\n",
            "Sum of 4,5,6,7 is: 22\n"
          ]
        }
      ]
    },
    {
      "cell_type": "code",
      "source": [
        "def main():\n",
        "   students=['Mary','Zelda','Jimmy','Jack','Bartholomew','Gertrude']\n",
        "   first_word(students)\n",
        "\n",
        "def first_word(st):\n",
        "  st.sort()\n",
        "  print(st[0])\n",
        "\n",
        "main()"
      ],
      "metadata": {
        "colab": {
          "base_uri": "https://localhost:8080/"
        },
        "id": "gykwcAdN1EWS",
        "outputId": "ae3e4732-ad32-47f0-928c-8a11fdae9b5c"
      },
      "execution_count": null,
      "outputs": [
        {
          "output_type": "stream",
          "name": "stdout",
          "text": [
            "Bartholomew\n"
          ]
        }
      ]
    },
    {
      "cell_type": "code",
      "source": [
        "class Employee:\n",
        "  count_employee=0;\n",
        "\n",
        "  def __init__(self,name,salary,family,department):\n",
        "    self.name=name\n",
        "    self.salary=salary\n",
        "    self.family=family\n",
        "    self.department=department\n",
        "    Employee.count_employee +=1\n",
        "\n",
        "  def average_salary(self,employees):\n",
        "    if not employees:\n",
        "      return 0\n",
        "    total_salary = sum(empl.salary for empl in employees)\n",
        "    return total_salary / len(employees)\n",
        "\n",
        "class FulltimeEmployee(Employee):\n",
        "  def __init__(self,name,salary,family,department):\n",
        "    super().__init__(name,salary,family,department)\n",
        "\n",
        "empl1 = Employee(\"Sahitha\",80000,\"Koppula\",\"Data Analytics\")\n",
        "empl2 = Employee(\"Jungkook\",70000,\"Jeon\",\"Marketing\")\n",
        "empl3 = Employee(\"Taehyung\",60000,\"Kim\",\"Sales\")\n",
        "fulltime_emp = FulltimeEmployee(\"Namjoon\",50000,\"Kim\",\"HR\")\n",
        "\n",
        "employees = [empl1,empl2,empl3,fulltime_emp]\n",
        "#Calculation of average salary\n",
        "print(f\"Average Salary: {fulltime_emp.average_salary(employees)}\")\n",
        "\n",
        "#Total number of employees\n",
        "print(f\"Total number of employees: {Employee.count_employee}\")\n"
      ],
      "metadata": {
        "colab": {
          "base_uri": "https://localhost:8080/"
        },
        "id": "qJqL0ukW6FEY",
        "outputId": "430e685a-6675-412f-ac51-cbbfd88c0556"
      },
      "execution_count": null,
      "outputs": [
        {
          "output_type": "stream",
          "name": "stdout",
          "text": [
            "Average Salary: 65000.0\n",
            "Total number of employees: 4\n"
          ]
        }
      ]
    }
  ]
}