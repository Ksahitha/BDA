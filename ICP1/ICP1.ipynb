{
  "nbformat": 4,
  "nbformat_minor": 0,
  "metadata": {
    "colab": {
      "provenance": []
    },
    "kernelspec": {
      "name": "python3",
      "display_name": "Python 3"
    },
    "language_info": {
      "name": "python"
    }
  },
  "cells": [
    {
      "cell_type": "code",
      "execution_count": null,
      "metadata": {
        "colab": {
          "base_uri": "https://localhost:8080/"
        },
        "id": "DyD2yhSWa5Gh",
        "outputId": "81f788bf-a3e2-432b-8756-850946187e78"
      },
      "outputs": [
        {
          "output_type": "stream",
          "name": "stdout",
          "text": [
            "Mounted at /content/drive\n"
          ]
        }
      ],
      "source": [
        "# Mount Google Drive\n",
        "from google.colab import drive\n",
        "drive.mount('/content/drive')\n"
      ]
    },
    {
      "cell_type": "code",
      "source": [
        "def main():\n",
        "  #Input from Console\n",
        "  in_str=input(\"Enter any string: \")\n",
        "  #Delete two Characters\n",
        "  dr_str=in_str[:-2]\n",
        "  #Resultant Reversed string\n",
        "  print(\"Resultant Reversed String: \",end=\"\")\n",
        "  print(reverse(dr_str))\n",
        "\n",
        "def reverse(s):\n",
        "  #Now reversing the string\n",
        "  out_str = \"\"\n",
        "  for i in s:\n",
        "        out_str = i + out_str\n",
        "  return out_str\n",
        "\n",
        "main()"
      ],
      "metadata": {
        "colab": {
          "base_uri": "https://localhost:8080/"
        },
        "id": "IlhwiglTcSMx",
        "outputId": "7dc29793-bfb0-4d57-b0d1-4f7110245818"
      },
      "execution_count": null,
      "outputs": [
        {
          "output_type": "stream",
          "name": "stdout",
          "text": [
            "Enter any string: python\n",
            "Resultant Reversed String: htyp\n"
          ]
        }
      ]
    },
    {
      "cell_type": "code",
      "source": [
        "#Input from Console\n",
        "n1 = float(input(\"Enter 1st number: \"))\n",
        "n2 = float(input(\"Enter 2nd number: \"))\n",
        "\n",
        "#Performing +,-,*\n",
        "addition = n1 + n2\n",
        "subtract = n1 - n2\n",
        "multi = n1 * n2\n",
        "\n",
        "#To ensure non-zero division\n",
        "if n2 != 0:\n",
        "    divide = n1 / n2\n",
        "else:\n",
        "    divide = \"Cannot divide by zero\"\n",
        "\n",
        "#Printing the results of arithmetic operations\n",
        "print(\"Addition:\", addition)\n",
        "print(\"Subtraction:\", subtract)\n",
        "print(\"Multiplication:\", multi)\n",
        "print(\"Division:\", divide)\n"
      ],
      "metadata": {
        "colab": {
          "base_uri": "https://localhost:8080/"
        },
        "id": "gKZJuCMufnuO",
        "outputId": "585a63af-7139-4ea8-a517-f2fca6b75b5d"
      },
      "execution_count": null,
      "outputs": [
        {
          "output_type": "stream",
          "name": "stdout",
          "text": [
            "Enter 1st number: 25.2\n",
            "Enter 2nd number: 2\n",
            "Addition: 27.2\n",
            "Subtraction: 23.2\n",
            "Multiplication: 50.4\n",
            "Division: 12.6\n"
          ]
        }
      ]
    },
    {
      "cell_type": "code",
      "source": [
        "#Enter sentence from Console\n",
        "Sent=input(\"Enter the Sentence: \")\n",
        "\n",
        "#Now replace every occurance of python with pythons using replace()\n",
        "Result=Sent.replace(\"python\",\"pythons\")\n",
        "\n",
        "#After replacing, the result is\n",
        "print(\"Modified Sentence: \",Result)"
      ],
      "metadata": {
        "colab": {
          "base_uri": "https://localhost:8080/"
        },
        "id": "WTAPtUcchmPZ",
        "outputId": "adc07202-8348-4c89-f6bb-b7f58b373471"
      },
      "execution_count": null,
      "outputs": [
        {
          "output_type": "stream",
          "name": "stdout",
          "text": [
            "Enter the Sentence: python is very easy language to learn\n",
            "Modified Sentence:  pythons is very easy language to learn\n"
          ]
        }
      ]
    },
    {
      "cell_type": "code",
      "source": [
        "#Take score entered in Console\n",
        "sc = float(input(\"Enter the score: \"))\n",
        "\n",
        "#To determine the grade according to score\n",
        "if sc >= 90:\n",
        "    l_gr = 'A'\n",
        "elif 80 <= sc < 90:\n",
        "    l_gr = 'B'\n",
        "elif 70 <= sc < 80:\n",
        "    l_gr = 'C'\n",
        "elif 60 <= sc < 70:\n",
        "    l_gr = 'D'\n",
        "else:\n",
        "    l_gr = 'F'\n",
        "\n",
        "#Printing the grade obtained\n",
        "print(\"Grade:\", l_gr)\n"
      ],
      "metadata": {
        "colab": {
          "base_uri": "https://localhost:8080/"
        },
        "id": "68g62B-OkN8N",
        "outputId": "01bdaab6-fd94-4237-bc10-36e85446af74"
      },
      "execution_count": 18,
      "outputs": [
        {
          "output_type": "stream",
          "name": "stdout",
          "text": [
            "Enter the score: 91\n",
            "Grade: A\n"
          ]
        }
      ]
    },
    {
      "cell_type": "code",
      "source": [
        "#Input list\n",
        "list1= [23, 'Python', 23.98]\n",
        "\n",
        "#Printing original list\n",
        "print(list1)\n",
        "\n",
        "#Creating a list containing the types of each element in list1\n",
        "list2 = [type(i) for i in list1]\n",
        "\n",
        "#Printing the required list\n",
        "print(list2)"
      ],
      "metadata": {
        "colab": {
          "base_uri": "https://localhost:8080/"
        },
        "id": "gzul8pn4mHAr",
        "outputId": "725e1494-2046-4cc1-dab7-c2bbf472c908"
      },
      "execution_count": null,
      "outputs": [
        {
          "output_type": "stream",
          "name": "stdout",
          "text": [
            "[23, 'Python', 23.98]\n",
            "[<class 'int'>, <class 'str'>, <class 'float'>]\n"
          ]
        }
      ]
    },
    {
      "cell_type": "code",
      "source": [
        "# Given sets and list\n",
        "IT_companies = {'Facebook', 'Google', 'Microsoft', 'Apple', 'IBM', 'Oracle', 'Amazon'}\n",
        "A = {19, 22, 24, 20, 25, 26}\n",
        "B = {19, 22, 20, 25, 26, 24, 28, 27}\n",
        "age = [22, 19, 24, 25, 26, 24, 25, 24]\n",
        "\n",
        "#1. Find the length of the set IT_companies\n",
        "length_c = len(IT_companies)\n",
        "print(\"1.Length of IT_companies:\", length_c)\n",
        "\n",
        "#2. Add 'Twitter' to IT_companies\n",
        "IT_companies.add('Twitter')\n",
        "print(\"2.IT_companies after adding Twitter:\", IT_companies)\n",
        "\n",
        "#3. Insert multiple IT companies at once to the set IT_companies\n",
        "IT_companies.update(['Meta', 'TikTok', 'Instagram'])\n",
        "print(\"3.IT_companies after adding multiple companies:\", IT_companies)\n",
        "\n",
        "#4. Remove one of the companies from the set IT_companies\n",
        "IT_companies.remove('Google')  # Removing Google\n",
        "print(\"4.IT_companies after removing a company:\", IT_companies)\n",
        "\n",
        "#5. Difference between remove and discard:\n",
        "#- remove() will raise a KeyError if the element is not present in the set.\n",
        "#- discard() will not raise an error if the element is not present in the set.\n",
        "\n",
        "#6. Join A and B\n",
        "A_u_B = A.union(B)\n",
        "print(\"6.A union B:\", A_u_B)\n",
        "\n",
        "# 7. Find A intersection B\n",
        "A_i_B = A.intersection(B)\n",
        "print(\"7.A intersection B:\", A_i_B)\n",
        "\n",
        "#8. Is A subset of B?\n",
        "is_A_sub_B = A.issubset(B)\n",
        "print(\"8.Is A a subset of B?:\", is_A_sub_B)\n",
        "\n",
        "#9. Are A and B disjoint sets?\n",
        "are_A_B_dis = A.isdisjoint(B)\n",
        "print(\"9.Are A and B disjoint?:\", are_A_B_dis)\n",
        "\n",
        "#10. Join A with B and B with A\n",
        "A_u_B_again = A.union(B)\n",
        "B_u_A = B.union(A)\n",
        "print(\"10.A union B (again):\", A_u_B_again)\n",
        "print(\"   B union A:\", B_u_A)\n",
        "\n",
        "#11. What is the symmetric difference between A and B\n",
        "A_sd_B = A.symmetric_difference(B)\n",
        "print(\"11.Symmetric difference between A and B:\", A_sd_B)\n",
        "\n",
        "#12. Delete the sets completely\n",
        "del IT_companies\n",
        "del A\n",
        "del B\n",
        "\n",
        "#13. Convert the ages to a set and compare the length of the list and the set.\n",
        "age_st = set(age)\n",
        "length_age = len(age)\n",
        "length_age_st = len(age_st)\n",
        "print(\"13.Length of age list:\", length_age)\n",
        "print(\"   Length of age set:\",length_age_st)\n",
        "#Comparing lengths\n",
        "if length_age == length_age_st:\n",
        "    print(\"The lengths are equal.\")\n",
        "else:\n",
        "    print(\"   The lengths are not equal.\")"
      ],
      "metadata": {
        "colab": {
          "base_uri": "https://localhost:8080/"
        },
        "id": "JGBC_I5_n_X8",
        "outputId": "d4cff179-0b8b-4df6-be77-ad6db9d956bd"
      },
      "execution_count": null,
      "outputs": [
        {
          "output_type": "stream",
          "name": "stdout",
          "text": [
            "1.Length of IT_companies: 7\n",
            "2.IT_companies after adding Twitter: {'IBM', 'Microsoft', 'Google', 'Amazon', 'Oracle', 'Twitter', 'Facebook', 'Apple'}\n",
            "3.IT_companies after adding multiple companies: {'TikTok', 'Google', 'Instagram', 'Apple', 'Microsoft', 'Oracle', 'Meta', 'Facebook', 'IBM', 'Amazon', 'Twitter'}\n",
            "4.IT_companies after removing a company: {'TikTok', 'Instagram', 'Apple', 'Microsoft', 'Oracle', 'Meta', 'Facebook', 'IBM', 'Amazon', 'Twitter'}\n",
            "6.A union B: {19, 20, 22, 24, 25, 26, 27, 28}\n",
            "7.A intersection B: {19, 20, 22, 24, 25, 26}\n",
            "8.Is A a subset of B?: True\n",
            "9.Are A and B disjoint?: False\n",
            "10.A union B (again): {19, 20, 22, 24, 25, 26, 27, 28}\n",
            "   B union A: {19, 20, 22, 24, 25, 26, 27, 28}\n",
            "11.Symmetric difference between A and B: {27, 28}\n",
            "13.Length of age list: 8\n",
            "   Length of age set: 5\n",
            "   The lengths are not equal.\n"
          ]
        }
      ]
    }
  ]
}